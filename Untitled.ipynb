{
 "cells": [
  {
   "cell_type": "code",
   "execution_count": 19,
   "metadata": {},
   "outputs": [
    {
     "name": "stdout",
     "output_type": "stream",
     "text": [
      "輸入分數:60.5\n",
      "及格\n"
     ]
    }
   ],
   "source": [
    "x = float(input('輸入分數:'))\n",
    "if x >= 80 and x <= 100:\n",
    "    print('優等')\n",
    "elif x  >= 60 and x < 80:\n",
    "    print('及格')\n",
    "elif x >= 0 and x < 60:\n",
    "    print('不及格')\n",
    "else:\n",
    "    print('打錯了')"
   ]
  },
  {
   "cell_type": "code",
   "execution_count": null,
   "metadata": {},
   "outputs": [],
   "source": []
  }
 ],
 "metadata": {
  "kernelspec": {
   "display_name": "Python 3",
   "language": "python",
   "name": "python3"
  },
  "language_info": {
   "codemirror_mode": {
    "name": "ipython",
    "version": 3
   },
   "file_extension": ".py",
   "mimetype": "text/x-python",
   "name": "python",
   "nbconvert_exporter": "python",
   "pygments_lexer": "ipython3",
   "version": "3.7.3"
  }
 },
 "nbformat": 4,
 "nbformat_minor": 2
}

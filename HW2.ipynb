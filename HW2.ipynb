{
 "cells": [
  {
   "cell_type": "code",
   "execution_count": 7,
   "metadata": {},
   "outputs": [
    {
     "name": "stdout",
     "output_type": "stream",
     "text": [
      "猜數字一位數8\n",
      "猜中了\n"
     ]
    }
   ],
   "source": [
    "while(True):\n",
    "    x = input('猜數字一位數')\n",
    "    if x == ('8'):\n",
    "        print('猜中了')\n",
    "        break;\n",
    "    elif x == ('q'):\n",
    "        print('結束了')\n",
    "        break;\n",
    "    else:\n",
    "        print('猜錯了')"
   ]
  },
  {
   "cell_type": "code",
   "execution_count": null,
   "metadata": {},
   "outputs": [],
   "source": []
  }
 ],
 "metadata": {
  "kernelspec": {
   "display_name": "Python 3",
   "language": "python",
   "name": "python3"
  },
  "language_info": {
   "codemirror_mode": {
    "name": "ipython",
    "version": 3
   },
   "file_extension": ".py",
   "mimetype": "text/x-python",
   "name": "python",
   "nbconvert_exporter": "python",
   "pygments_lexer": "ipython3",
   "version": "3.7.3"
  }
 },
 "nbformat": 4,
 "nbformat_minor": 2
}
